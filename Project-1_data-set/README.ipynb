{
 "cells": [
  {
   "cell_type": "markdown",
   "metadata": {},
   "source": [
    "### About Dataset\n",
    "\n",
    "The dataset was divided into several file.\n",
    "\n",
    "#### Dataset Information\n",
    "Customers.csv\n",
    "- ID: Unique identifier for each customer.\n",
    "- NAME: Full name of the customer.\n",
    "- SEGMENT: Purpose or category of the customer’s purchase.\n",
    "- COUNTRY: Country of the customer's address.\n",
    "- CITY: City within the customer's address.\n",
    "- STATE: State within the customer's address.\n",
    "- POSTAL_CODE: Postal code for the customer's address.\n",
    "- REGION: Region or geographical area for the customer's address.\n",
    " \n",
    "\n",
    "Employees.csv\n",
    "- ID_EMPLOYEE: Unique identifier for each employee.\n",
    "- NAME: Full name of the employee.\n",
    "- CITY: City within the employee's address.\n",
    "- REGION: Region or geographical area for the employee's address.\n",
    "\n",
    "\n",
    "Orders.csv\n",
    "- ROW_ID: Unique identifier for each row entry in the orders file.\n",
    "- ORDER_ID: Unique identifier for each order.\n",
    "- ORDER_DATE: Date the order was placed.\n",
    "- SHIP_DATE: Date the order was shipped.\n",
    "- SHIP_MODE: Mode of shipping used for the order.\n",
    "- CUSTOMER_ID: Identifier for the customer making the purchase.\n",
    "- PRODUCT_ID: Identifier for the product in the order.\n",
    "- SALES: Total sale price of the order.\n",
    "- QUANTITY: Number of items purchased in the order.\n",
    "- DISCOUNT: Discount percentage applied to the order.\n",
    "- PROFIT: Total profit earned from the order.\n",
    "- ID_EMPLOYEE: Identifier for the employee who processed the order.\n",
    "\n",
    "Product.csv\n",
    "- ID: Unique identifier for each product.\n",
    "- NAME: Name or title of the product.\n",
    "- CATEGORY: General category to which the product belongs.\n",
    "- SUBCATEGORY: Specific subcategory within the product category.\n"
   ]
  }
 ],
 "metadata": {
  "language_info": {
   "name": "python"
  }
 },
 "nbformat": 4,
 "nbformat_minor": 2
}
