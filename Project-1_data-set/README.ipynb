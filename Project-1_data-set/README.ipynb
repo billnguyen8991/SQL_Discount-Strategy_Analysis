### About Dataset

The dataset was divided into several file.

#### Dataset Information
Customers.csv
- ID: Unique identifier for each customer.
- NAME: Full name of the customer.
- SEGMENT: Purpose or category of the customer’s purchase.
- COUNTRY: Country of the customer's address.
- CITY: City within the customer's address.
- STATE: State within the customer's address.
- POSTAL_CODE: Postal code for the customer's address.
- REGION: Region or geographical area for the customer's address.
 

Employees.csv
- ID_EMPLOYEE: Unique identifier for each employee.
- NAME: Full name of the employee.
- CITY: City within the employee's address.
- REGION: Region or geographical area for the employee's address.


Orders.csv
- ROW_ID: Unique identifier for each row entry in the orders file.
- ORDER_ID: Unique identifier for each order.
- ORDER_DATE: Date the order was placed.
- SHIP_DATE: Date the order was shipped.
- SHIP_MODE: Mode of shipping used for the order.
- CUSTOMER_ID: Identifier for the customer making the purchase.
- PRODUCT_ID: Identifier for the product in the order.
- SALES: Total sale price of the order.
- QUANTITY: Number of items purchased in the order.
- DISCOUNT: Discount percentage applied to the order.
- PROFIT: Total profit earned from the order.
- ID_EMPLOYEE: Identifier for the employee who processed the order.

Product.csv
- ID: Unique identifier for each product.
- NAME: Name or title of the product.
- CATEGORY: General category to which the product belongs.
- SUBCATEGORY: Specific subcategory within the product category.
